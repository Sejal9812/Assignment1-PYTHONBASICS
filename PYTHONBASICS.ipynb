{
  "nbformat": 4,
  "nbformat_minor": 0,
  "metadata": {
    "colab": {
      "provenance": []
    },
    "kernelspec": {
      "name": "python3",
      "display_name": "Python 3"
    },
    "language_info": {
      "name": "python"
    }
  },
  "cells": [
    {
      "cell_type": "markdown",
      "source": [
        "###PYTHON BASICS QUESTIONS\n",
        "\n",
        "Q1.\n",
        "###What is python and why it is popular?\n",
        "###ANS:-Python is a high-level, interpreted, and general-purpose programming language. It was created by Guido van Rossum and first released in 1991. Python emphasizes readability and simplicity, making it easy for developers to write and maintain code.\n",
        "\n",
        "###Why is Python Popular?\n",
        "###Easy to Learn and Use:\n",
        "Python has a simple syntax similar to English, making it beginner-friendly.\n",
        "\n",
        "###Versatile and Powerful:\n",
        "Used for web development, data science, machine learning, automation, and more.\n",
        "\n",
        "###Extensive Libraries and Frameworks:\n",
        "Provides powerful libraries like NumPy, Pandas, TensorFlow, and Django.\n",
        "\n",
        "###Large Community Support:\n",
        "A massive community ensures quick help and frequent updates.\n",
        "\n",
        "Q2.\n",
        "###What is an interpreter in python?\n",
        "###ANS:- An interpreter in Python is a program that reads and executes Python code line by line. It translates high-level code into machine-readable instructions directly, allowing the program to run without needing prior compilation.\n",
        "\n",
        "###Key Features:\n",
        "###Line-by-Line Execution:\n",
        "Python executes code one line at a time, making it easier to identify and fix errors.\n",
        "###Platform Independence:\n",
        "The interpreter makes Python code portable across different operating systems.\n",
        "###Interactive Mode:\n",
        " Python allows users to execute code snippets directly in the interpreter.\n",
        "###Faster Development:\n",
        "Direct execution without compilation speeds up development and testing.\n",
        "\n",
        "Q3.\n",
        "### What are pre-defined keywords in Python?\n",
        "###ANS:-A keyword refers to a predefined word that python reserves for working programs that have a specific meaning, You can't use a keyword anywhere else. Python Identifiers are the different values that a programmer can use to define various variables, integers, functions, and classes.\n",
        "###Examples.\n",
        "A few examples of commonly used Python keywords are: True, False, else, import, break, if, finally, is, and global.\n",
        "\n",
        "Q4.\n",
        "###Can keywords be used as variable names?\n",
        "###ANS:-Python Variable Names and keywords cannot be used as variable names because they have special meanings and purposes in a programming language. Keywords are also known as reserved words.\n",
        "###Explanation\n",
        "1. Keywords define the structure and syntax rules of a programming language.\n",
        "2. They are predefined tokens that cannot be used as variable names or any other identifiers.\n",
        "3. Programmers usually choose meaningful names for their variables so that other people can easily understand what the variable is used for.\n",
        "###EXAMPLE\n",
        "In Python, the keywords and, del, from, None, True, elif, global, nonlocal, try, assert, else, if, not, while, break, except, import, or, with, class, False, in, pass, yield, continue, finally, is, raise, def, for, and lambda\n",
        "cannot be used as variable names.\n",
        "\n",
        "Q5.\n",
        "### What is mutability in python?\n",
        "###ANS:-Mutability in Python refers to an object's ability to be modified after it is created. Depending on their type, Python objects are classified as either mutable or immutable.\n",
        "### Type of objects:-\n",
        "###Mutable Objects:\n",
        "1. Can be changed after creation (e.g., adding or removing elements).\n",
        "2. Examples: list, dict, set.\n",
        "###Immutable Objects:\n",
        "1. Cannot be changed after creation.\n",
        "2. Examples: int, str, tuple.\n",
        "\n",
        "Q6\n",
        "###Why are lists mutable, but tuples are immutable?\n",
        "###Ans:-Tuples and lists are the same in every way except two: tuples use parentheses instead of square brackets, and the items in tuples cannot be modified (but the items in lists can be modified). We often call lists mutable (meaning they can be changed) and tuples immutable (meaning they cannot be changed).\n",
        "\n",
        "Q7\n",
        "###What is the difference between “==” and “is” operators in Python?\n",
        "###ANS:In Python, the == operator compares the values of two objects, while the is operator compares whether two variables point to the same object.\n",
        "###Explanation\n",
        "###==\n",
        "The equality operator compares the values of two objects. It's used to determine if two objects have the same content or data. For example, if you compare two cats with the == operator, the result would be \"both cats are equal\".\n",
        "###is\n",
        "The identity operator compares whether two variables point to the same object in memory. It's used to determine if two references are identical. For example, if you compare two cats with the is operator, the result would be \"these are two different cats\".\n",
        "\n",
        "###Example\n",
        "The is statement is syntactic sugar for id(a) == id(b). id() is a built-in function that returns the identity of an object.\n",
        "\n",
        "Q8\n",
        "###What are logical operators in Python?\n",
        "###ANS:-Logical operators in Python are keywords that evaluate conditions and connect multiple conditions in an expression. They are also known as Boolean operators because they convert operands to Boolean values for evaluation.\n",
        "###Logical operators in Python\n",
        "###1.and: Returns True if both operands are true\n",
        "###2.or: Returns True if either operand is true\n",
        "###3.not: Reverses the result, returning False if the result is true\n",
        "###Examples\n",
        "###1.and: x and y returns True if both x and y are true\n",
        "###2.or: x or y returns True if either x or y are true\n",
        "###3.not: not x reverses the result, returning False if x is true\n",
        "###Logical operators are used in conditional statements to make decisions based on specific conditions.\n",
        "\n",
        "Q9.\n",
        "###What is type casting in Python?\n",
        "###ANS:-Type casting, also known as type conversion, is the process of changing a variable's data type to another data type in Python. It's a useful feature for making Python code more versatile and ensuring compatibility between different data types.\n",
        "###Types of type casting\n",
        "###Implicit: Python automatically converts one data type to another without the programmer's instruction. This usually happens when operating on mixed data types.\n",
        "###Explicit: The programmer explicitly converts one data type to another\n",
        "###Examples of type casting\n",
        "1.Converting an integer to a float\n",
        "2.Converting a string to an integer\n",
        "3.Converting a character to an integer\n",
        "4.Converting an integer to a hexadecimal string\n",
        "5.Converting an integer to an octal string\n",
        "###Functions used for type casting\n",
        "int(), float(), str(), ord(), hex(), and oct().\n",
        "\n",
        "Q10.\n",
        "###What is the difference between implicit and explicit type casting?\n",
        "###ANS:Implicit:\n",
        "Python automatically converts one data type to another without the programmer's instruction. This usually happens when operating on mixed data types.\n",
        "###Explicit:\n",
        "The programmer explicitly converts one data type to another.\n",
        "\n",
        "Q11.\n",
        "###What is the purpose of conditional statements in Python?\n",
        "###ANS:Conditional statements in Python control the flow of a program by evaluating conditions and executing code based on the results. They give the programmer more control over what the program does.\n",
        "###How it works\n",
        "1.A conditional statement evaluates an expression to get a Boolean value (True or False)\n",
        "2.If the condition is True, the program executes a specific block of code\n",
        "3.If the condition is False, the program continues to execute other code\n",
        "###Examples of conditional statements\n",
        "1.If statements: Used to check if a condition is met\n",
        "2.If-else statements: Used to separate even and odd numbers\n",
        "3.If-elif-else ladder: A type of conditional statement\n",
        "4.While loops: Continue to execute as long as a condition is true.\n",
        "###Operators used with conditional statements Equals (==), Not equals (!=), Greater than (>), Less than (<), and Greater than or equal to (>=).\n",
        "\n",
        "Q12.\n",
        "## How does the elif statement work?\n",
        "###ANS:-The “elif” keyword in Python, stands for “else if”. It can be used in conditional statements to check for multiple conditions. For example, if the first condition is false, it moves on to the next “elif” statement to check if that condition is true.\n",
        "\n",
        "Q13.\n",
        "###What is the difference between for and while loops?\n",
        "###ANS:-The main difference between a for loop and a while loop is that a for loop is used when you know how many times to repeat a block of code, while a while loop is used when you don't know how many times.\n",
        "###Explanation\n",
        "###For loop\n",
        "Used to repeat a block of code a known number of times. For example, you can use a for loop to check the grades of every student in a class. For loops are best used when you know the number of iterations ahead of time.\n",
        "###While loop\n",
        "Used to repeat a block of code an unknown number of times until a specific condition is met. While loops are best used when you don't know the number of iterations ahead of time.\n",
        "###How they work\n",
        "###For loop\n",
        "Iterates over a sequence, such as a list, tuple, or string. It's always followed by initialization, expression, and increment statements.\n",
        "###While loop\n",
        "Repeats a block of code as long as a specified condition is true. The condition is evaluated before executing the statement.\n",
        "\n",
        "Q14.\n",
        "###Describe a scenario where a while loop is more suitable than a for loop?\n",
        "###ANS:-A while loop is more suitable when you need to keep repeating a process until a specific condition is met, but you don't know how many repetitions will be required.\n",
        "###Example Scenario:\n",
        "A student is practicing math problems and stops only when they get 5 correct answers. The number of attempts required is unknown.\n",
        "###Reason:\n",
        "Since the number of attempts is unpredictable, a while loop is more appropriate than a for loop."
      ],
      "metadata": {
        "id": "Y9z_pVg9viL9"
      }
    },
    {
      "cell_type": "code",
      "source": [
        "# Write a Python program to print \"Hello, World!\n",
        "print('Hello World')"
      ],
      "metadata": {
        "colab": {
          "base_uri": "https://localhost:8080/"
        },
        "id": "AKPMTfp6uHV0",
        "outputId": "9110225e-5cf4-403c-bf7c-1d37c3fa37b3"
      },
      "execution_count": null,
      "outputs": [
        {
          "output_type": "stream",
          "name": "stdout",
          "text": [
            "Hello World\n"
          ]
        }
      ]
    },
    {
      "cell_type": "code",
      "source": [
        "#Write a Python program that displays your name and age\n",
        "#Write a Python program that displays your name and age\n",
        "name = 'Sejal Rana'\n",
        "age = '13 years old'\n",
        "print(f\" My Name is {name} , I am {age}.\")"
      ],
      "metadata": {
        "colab": {
          "base_uri": "https://localhost:8080/"
        },
        "id": "J45SO5y4fVmJ",
        "outputId": "5aef3f7c-b3bc-4019-83b5-103704762585"
      },
      "execution_count": null,
      "outputs": [
        {
          "output_type": "stream",
          "name": "stdout",
          "text": [
            " My Name is Sejal Rana , I am 13 years old.\n"
          ]
        }
      ]
    },
    {
      "cell_type": "code",
      "source": [
        "#Write code to print all the pre-defined keywords in Python using the keyword library\n",
        "help('keyword')"
      ],
      "metadata": {
        "colab": {
          "base_uri": "https://localhost:8080/"
        },
        "id": "XV0CB64efvif",
        "outputId": "7bbaa3f4-75da-4b46-b85c-d8e444733acf"
      },
      "execution_count": null,
      "outputs": [
        {
          "output_type": "stream",
          "name": "stdout",
          "text": [
            "Help on module keyword:\n",
            "\n",
            "NAME\n",
            "    keyword - Keywords (from \"Grammar/python.gram\")\n",
            "\n",
            "MODULE REFERENCE\n",
            "    https://docs.python.org/3.11/library/keyword.html\n",
            "    \n",
            "    The following documentation is automatically generated from the Python\n",
            "    source files.  It may be incomplete, incorrect or include features that\n",
            "    are considered implementation detail and may vary between Python\n",
            "    implementations.  When in doubt, consult the module reference at the\n",
            "    location listed above.\n",
            "\n",
            "DESCRIPTION\n",
            "    This file is automatically generated; please don't muck it up!\n",
            "    \n",
            "    To update the symbols in this file, 'cd' to the top directory of\n",
            "    the python source tree and run:\n",
            "    \n",
            "        PYTHONPATH=Tools/peg_generator python3 -m pegen.keywordgen         Grammar/python.gram         Grammar/Tokens         Lib/keyword.py\n",
            "    \n",
            "    Alternatively, you can run 'make regen-keyword'.\n",
            "\n",
            "FUNCTIONS\n",
            "    iskeyword = __contains__(...) method of builtins.frozenset instance\n",
            "        x.__contains__(y) <==> y in x.\n",
            "    \n",
            "    issoftkeyword = __contains__(...) method of builtins.frozenset instance\n",
            "        x.__contains__(y) <==> y in x.\n",
            "\n",
            "DATA\n",
            "    __all__ = ['iskeyword', 'issoftkeyword', 'kwlist', 'softkwlist']\n",
            "    kwlist = ['False', 'None', 'True', 'and', 'as', 'assert', 'async', 'aw...\n",
            "    softkwlist = ['_', 'case', 'match']\n",
            "\n",
            "FILE\n",
            "    /usr/lib/python3.11/keyword.py\n",
            "\n",
            "\n"
          ]
        }
      ]
    },
    {
      "cell_type": "code",
      "source": [
        "# Write a program that checks if a given word is a Python keyword\n",
        "import keyword\n",
        "\n",
        "word = input(\"Enter a word: \")\n",
        "if keyword.iskeyword(word):\n",
        "    print(f\"'{word}' is a Python keyword.\")\n",
        "else:\n",
        "    print(f\"'{word}' is not a Python keyword.\")\n"
      ],
      "metadata": {
        "colab": {
          "base_uri": "https://localhost:8080/"
        },
        "id": "v9oXl-J6gOjq",
        "outputId": "912f05ff-665b-48da-bb0b-ca81c56efefe"
      },
      "execution_count": null,
      "outputs": [
        {
          "output_type": "stream",
          "name": "stdout",
          "text": [
            "Enter a word: True\n",
            "'True' is a Python keyword.\n"
          ]
        }
      ]
    },
    {
      "cell_type": "code",
      "source": [
        "#Create a list and tuple in Python, and demonstrate how attempting to change an element works differently for each.\n",
        "list1 = ['apple','banana','kiwi','Chiku','orange']\n",
        "tuple1 = (1,2,3,4,5,)\n",
        "list1[0] = 'Grapes'\n",
        "print(list1)\n",
        "tuple1[3] = 8\n",
        "# here the tuple is a immutable data structure we can't chnage the value of tuple once we defined.\n",
        "\n"
      ],
      "metadata": {
        "colab": {
          "base_uri": "https://localhost:8080/",
          "height": 228
        },
        "id": "MI324EUCh7aa",
        "outputId": "5b8d1bc1-6559-49b6-f9df-fb30f65d25dd"
      },
      "execution_count": null,
      "outputs": [
        {
          "output_type": "stream",
          "name": "stdout",
          "text": [
            "['Grapes', 'banana', 'kiwi', 'Chiku', 'orange']\n"
          ]
        },
        {
          "output_type": "error",
          "ename": "TypeError",
          "evalue": "'tuple' object does not support item assignment",
          "traceback": [
            "\u001b[0;31m---------------------------------------------------------------------------\u001b[0m",
            "\u001b[0;31mTypeError\u001b[0m                                 Traceback (most recent call last)",
            "\u001b[0;32m<ipython-input-15-7561d51ffb62>\u001b[0m in \u001b[0;36m<cell line: 0>\u001b[0;34m()\u001b[0m\n\u001b[1;32m      4\u001b[0m \u001b[0mlist1\u001b[0m\u001b[0;34m[\u001b[0m\u001b[0;36m0\u001b[0m\u001b[0;34m]\u001b[0m \u001b[0;34m=\u001b[0m \u001b[0;34m'Grapes'\u001b[0m\u001b[0;34m\u001b[0m\u001b[0;34m\u001b[0m\u001b[0m\n\u001b[1;32m      5\u001b[0m \u001b[0mprint\u001b[0m\u001b[0;34m(\u001b[0m\u001b[0mlist1\u001b[0m\u001b[0;34m)\u001b[0m\u001b[0;34m\u001b[0m\u001b[0;34m\u001b[0m\u001b[0m\n\u001b[0;32m----> 6\u001b[0;31m \u001b[0mtuple1\u001b[0m\u001b[0;34m[\u001b[0m\u001b[0;36m3\u001b[0m\u001b[0;34m]\u001b[0m \u001b[0;34m=\u001b[0m \u001b[0;36m8\u001b[0m\u001b[0;34m\u001b[0m\u001b[0;34m\u001b[0m\u001b[0m\n\u001b[0m\u001b[1;32m      7\u001b[0m \u001b[0;31m# here the tuple is a immutable data structure we can't chnage the value of tuple once we defined.\u001b[0m\u001b[0;34m\u001b[0m\u001b[0;34m\u001b[0m\u001b[0m\n\u001b[1;32m      8\u001b[0m \u001b[0;34m\u001b[0m\u001b[0m\n",
            "\u001b[0;31mTypeError\u001b[0m: 'tuple' object does not support item assignment"
          ]
        }
      ]
    },
    {
      "cell_type": "code",
      "source": [
        "# Write a function to demonstrate the behavior of mutable and immutable arguments.\n",
        "# Immutable example using a tuple\n",
        "num_tuple = (1, 2, 3)\n",
        "new_tuple = num_tuple + (23,)\n",
        "print(\"Immutable example (tuple):\", new_tuple)\n",
        "\n",
        "# Mutable example\n",
        "num_list = [1, 2, 3]\n",
        "num_list.append(10)\n",
        "print(\"Mutable example (list):\", num_list)\n",
        "\n",
        "\n",
        "\n"
      ],
      "metadata": {
        "id": "eJN1fPwAj0rZ",
        "colab": {
          "base_uri": "https://localhost:8080/"
        },
        "outputId": "41cf2dfa-d0a0-43fb-acd7-05748444c0ee"
      },
      "execution_count": null,
      "outputs": [
        {
          "output_type": "stream",
          "name": "stdout",
          "text": [
            "Immutable example (tuple): (1, 2, 3, 23)\n",
            "Mutable example (list): [1, 2, 3, 10]\n"
          ]
        }
      ]
    },
    {
      "cell_type": "code",
      "source": [
        "# Write a program to demonstrate the use of logical operators?\n",
        " #'and' operator\n",
        "x = 5\n",
        "y = 10\n",
        "print(\"and operator example:\", x > 0 and y > 0)\n",
        "\n",
        "# 'or' operator\n",
        "a = -3\n",
        "b = 7\n",
        "print(\"or operator example:\", a > 0 or b > 0)\n",
        "\n",
        "# 'not' operator\n",
        "c = True\n",
        "print(\"not operator example:\", not c)\n",
        "\n",
        "# Combined logical operators\n",
        "num = 15\n",
        "print(\"Combined example:\", num > 0 and (num < 20 or not (num == 15)))\n",
        "\n",
        "###another code with the passing  marks criteria:\n",
        "math_marks = int(input(\"Enter your Math marks: \"))\n",
        "science_marks = int(input(\"Enter your Science marks: \"))\n",
        "\n",
        "# Using logical operators\n",
        "if math_marks >= 35 and science_marks >= 35:\n",
        "    print(\"You passed both subjects!\")\n",
        "elif math_marks >= 35 or science_marks >= 35:\n",
        "    print(\"You passed one subject, keep trying!\")\n",
        "else:\n",
        "    print(\"You failed both subjects, better luck next time.\")\n",
        "\n"
      ],
      "metadata": {
        "colab": {
          "base_uri": "https://localhost:8080/"
        },
        "id": "snQ9QPzrjo8z",
        "outputId": "c1dea270-8d72-4ecf-bd65-65c878c4634c"
      },
      "execution_count": null,
      "outputs": [
        {
          "output_type": "stream",
          "name": "stdout",
          "text": [
            "and operator example: True\n",
            "or operator example: True\n",
            "not operator example: False\n",
            "Combined example: True\n",
            "Enter your Math marks: 2\n",
            "Enter your Science marks: 3\n",
            "You failed both subjects, better luck next time.\n"
          ]
        }
      ]
    },
    {
      "cell_type": "code",
      "source": [
        "#Write a Python program to convert user input from string to integer, float, and boolean type?\n",
        "user_input = input(\"Enter a value: \")\n",
        "\n",
        "# Convert to integer\n",
        "int_value = int(user_input.strip(\"'\").strip('\"'))\n",
        "print(\"Integer value:\", int_value)\n",
        "\n",
        "# Convert to float\n",
        "float_value = float(user_input.strip(\"'\").strip('\"'))\n",
        "print(\"Float value:\", float_value)\n",
        "\n",
        "# Convert to boolean\n",
        "bool_value = bool(user_input.strip())\n",
        "print(\"Boolean value:\", bool_value)"
      ],
      "metadata": {
        "colab": {
          "base_uri": "https://localhost:8080/"
        },
        "id": "XTeirX-0k48-",
        "outputId": "72b45636-b634-44d2-f749-573f55eb9c81"
      },
      "execution_count": null,
      "outputs": [
        {
          "output_type": "stream",
          "name": "stdout",
          "text": [
            "Enter a value: \"67\"\n",
            "Integer value: 67\n",
            "Float value: 67.0\n",
            "Boolean value: True\n"
          ]
        }
      ]
    },
    {
      "cell_type": "code",
      "source": [
        "#Write the code to demonstrate type casting with list elements?\n",
        "my_list=['1','2.3','3','9','10','38','34','True','False']\n",
        "\n",
        "# Type casting to integer\n",
        "int_list = [int(x) for x in my_list if x.isdigit()]\n",
        "print(\"Integer list:\", int_list)\n",
        "\n",
        "# Type casting to float\n",
        "float_list = [float(x) for x in my_list if x.replace('.', '', 1).isdigit()]\n",
        "print(\"Float list:\", float_list)\n",
        "\n",
        "# Type casting to boolean\n",
        "bool_list = bool_list = [False if x.lower() == 'false' else True for x in my_list if x.lower() in ('true', 'false')]\n",
        "print(\"Boolean list:\", bool_list)\n"
      ],
      "metadata": {
        "colab": {
          "base_uri": "https://localhost:8080/"
        },
        "id": "eFqdSuNxNMpb",
        "outputId": "335b34e8-3db2-4ff1-ad98-cca9c972be84"
      },
      "execution_count": null,
      "outputs": [
        {
          "output_type": "stream",
          "name": "stdout",
          "text": [
            "Integer list: [1, 3, 9, 10, 38, 34]\n",
            "Float list: [1.0, 2.3, 3.0, 9.0, 10.0, 38.0, 34.0]\n",
            "Boolean list: [True, False]\n"
          ]
        }
      ]
    },
    {
      "cell_type": "code",
      "source": [
        "#Write a program that checks if a number is positive, negative, or zero?\n",
        "number = int(input('Enter your number:'))\n",
        "if number > 0:\n",
        "  print('The number is positive.')\n",
        "elif number < 0:\n",
        "  print('The number is negative.')\n",
        "else:\n",
        "  print('The number is zero.')\n",
        "\n"
      ],
      "metadata": {
        "colab": {
          "base_uri": "https://localhost:8080/"
        },
        "id": "kYrXH1LWQx6I",
        "outputId": "026c0c2a-956f-48f1-c98d-587760dcc3eb"
      },
      "execution_count": null,
      "outputs": [
        {
          "output_type": "stream",
          "name": "stdout",
          "text": [
            "Enter your number:-12\n",
            "The number is negative.\n"
          ]
        }
      ]
    },
    {
      "cell_type": "code",
      "source": [
        " #Write a for loop to print numbers from 1 to 100\n",
        " for i in range(1,101):\n",
        "  print(i)"
      ],
      "metadata": {
        "colab": {
          "base_uri": "https://localhost:8080/"
        },
        "id": "KHmxzb0HSUiM",
        "outputId": "640440b4-3fd2-42e9-882c-36768d35ac7a"
      },
      "execution_count": null,
      "outputs": [
        {
          "output_type": "stream",
          "name": "stdout",
          "text": [
            "1\n",
            "2\n",
            "3\n",
            "4\n",
            "5\n",
            "6\n",
            "7\n",
            "8\n",
            "9\n",
            "10\n",
            "11\n",
            "12\n",
            "13\n",
            "14\n",
            "15\n",
            "16\n",
            "17\n",
            "18\n",
            "19\n",
            "20\n",
            "21\n",
            "22\n",
            "23\n",
            "24\n",
            "25\n",
            "26\n",
            "27\n",
            "28\n",
            "29\n",
            "30\n",
            "31\n",
            "32\n",
            "33\n",
            "34\n",
            "35\n",
            "36\n",
            "37\n",
            "38\n",
            "39\n",
            "40\n",
            "41\n",
            "42\n",
            "43\n",
            "44\n",
            "45\n",
            "46\n",
            "47\n",
            "48\n",
            "49\n",
            "50\n",
            "51\n",
            "52\n",
            "53\n",
            "54\n",
            "55\n",
            "56\n",
            "57\n",
            "58\n",
            "59\n",
            "60\n",
            "61\n",
            "62\n",
            "63\n",
            "64\n",
            "65\n",
            "66\n",
            "67\n",
            "68\n",
            "69\n",
            "70\n",
            "71\n",
            "72\n",
            "73\n",
            "74\n",
            "75\n",
            "76\n",
            "77\n",
            "78\n",
            "79\n",
            "80\n",
            "81\n",
            "82\n",
            "83\n",
            "84\n",
            "85\n",
            "86\n",
            "87\n",
            "88\n",
            "89\n",
            "90\n",
            "91\n",
            "92\n",
            "93\n",
            "94\n",
            "95\n",
            "96\n",
            "97\n",
            "98\n",
            "99\n",
            "100\n"
          ]
        }
      ]
    },
    {
      "cell_type": "code",
      "source": [
        "#Write a Python program to find the sum of all even numbers between 1 and 50\n",
        "total_sum = 0\n",
        "for i in range(1,51):\n",
        "  if i%2==0:\n",
        "    total_sum+= i\n",
        "\n",
        "print('The sum of all even numbers between 1 and 50:',total_sum)\n"
      ],
      "metadata": {
        "colab": {
          "base_uri": "https://localhost:8080/"
        },
        "id": "jjfPmEo3TDb4",
        "outputId": "e1a6e3dc-63dc-49d2-e520-601ed4c4cc5a"
      },
      "execution_count": null,
      "outputs": [
        {
          "output_type": "stream",
          "name": "stdout",
          "text": [
            "The sum of all even numbers between 1 and 50: 650\n"
          ]
        }
      ]
    },
    {
      "cell_type": "code",
      "source": [
        "#Write a program to reverse a string using a while loop?\n",
        "string = input(\"Enter a string to reverse: \")\n",
        "reversed_string = ''\n",
        "index = len(string)\n",
        "while index:\n",
        "    index -= 1\n",
        "    reversed_string += string[index]\n",
        "\n",
        "print(f\"Reversed string: {reversed_string}\")\n",
        "\n"
      ],
      "metadata": {
        "colab": {
          "base_uri": "https://localhost:8080/"
        },
        "id": "xexSijgrWAqT",
        "outputId": "fbb46204-20e4-46bc-d44b-137ad79188d9"
      },
      "execution_count": null,
      "outputs": [
        {
          "output_type": "stream",
          "name": "stdout",
          "text": [
            "Enter a string to reverse: Sejal Rana\n",
            "Reversed string: anaR lajeS\n"
          ]
        }
      ]
    },
    {
      "cell_type": "code",
      "source": [
        "#Write a Python program to calculate the factorial of a number provided by the user using a while loop?\n",
        "num = int(input(\"Enter a number: \"))\n",
        "\n",
        "factorial = 1\n",
        "while num > 1:\n",
        "    factorial *= num\n",
        "    num -= 1\n",
        "\n",
        "print(\"The factorial of the given number is:\", factorial)"
      ],
      "metadata": {
        "colab": {
          "base_uri": "https://localhost:8080/"
        },
        "id": "CzPz5sXsa1h_",
        "outputId": "a45f3c8c-5edb-475c-b33f-073e455fc10e"
      },
      "execution_count": null,
      "outputs": [
        {
          "output_type": "stream",
          "name": "stdout",
          "text": [
            "Enter a number: 7\n",
            "The factorial of the given number is: 5040\n"
          ]
        }
      ]
    }
  ]
}